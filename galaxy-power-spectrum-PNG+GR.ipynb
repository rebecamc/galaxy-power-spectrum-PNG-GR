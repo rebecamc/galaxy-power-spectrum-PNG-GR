{
 "cells": [
  {
   "cell_type": "code",
   "execution_count": 1,
   "metadata": {},
   "outputs": [],
   "source": [
    "%matplotlib inline\n",
    "from matplotlib import pyplot as plt\n",
    "import numpy as np\n",
    "from scipy.integrate import simps\n",
    "from scipy.integrate import quad\n",
    "from scipy import interpolate\n",
    "from pylab import *"
   ]
  },
  {
   "cell_type": "code",
   "execution_count": 2,
   "metadata": {},
   "outputs": [],
   "source": [
    "#Computation of matter power spectrum using the approximation of Eisenstein and Hu, 1998\n",
    "\n",
    "c = 299792458\n",
    "ns = 0.9681\n",
    "h = 0.6790\n",
    "deltah_squared = 1.868e-9\n",
    "Omega_lambda = 0.6935\n",
    "Omega_b = 0.022270/h**2\n",
    "T_CMB = 2.72548\n",
    "\n",
    "Omega0 = 1 - Omega_lambda\n",
    "theta27 = T_CMB/2.7\n",
    "c_over_H0 = c/(100*1000*h)\n",
    "alpha_gamma = 1 - 0.328*np.log(431*Omega0*h**2)*Omega_b/Omega0 + 0.38*np.log(22.3*Omega0*h**2)*(Omega_b/Omega0)**2 \n",
    "s = 44.5*np.log(9.83/(Omega0*h**2))/np.sqrt(1+10*(Omega_b*h**2)**0.75)\n",
    "\n",
    "#Definition of the transfer function \n",
    "def Transfer(k):\n",
    "    Gamma_eff = Omega0*h*(alpha_gamma + (1-alpha_gamma)/(1+(0.43*k*s)**4))\n",
    "    q = (k*theta27)/(h*Gamma_eff)\n",
    "    L0 = np.log(2*np.e + 1.8*q)\n",
    "    C0 = 14.2 + 731/(1+62.5*q)\n",
    "    return L0/(L0+C0*q**2)\n",
    "\n",
    "#Definition of the matter power spectrum without wiggles\n",
    "def Phs(k):\n",
    "    Phs = 2*np.pi**2/k**3*deltah_squared*(c_over_H0*k)**(3+ns)*Transfer(k)**2\n",
    "    return Phs\n",
    "\n"
   ]
  },
  {
   "cell_type": "code",
   "execution_count": 3,
   "metadata": {},
   "outputs": [],
   "source": [
    "#Parameters to be modified \n",
    "\n",
    "#Primordial non-Gaussianity parameters\n",
    "gnl =-12.3*10**4\n",
    "fnl =-1.0\n",
    "#these are for the labeling of the files\n",
    "gnl1=12\n",
    "fnl1=1\n",
    "\n",
    "#redshift\n",
    "z=1.0\n",
    "\n",
    "#Hubble parameter redshift dependant\n",
    "Hub = (10**8*((1.0 - Omega_lambda)*(1.+z) + (Omega_lambda/(1.+z)**2))**2)**(1./4.)/(2.99792458*10**5)\n",
    "\n",
    "#Input linear power spectrum from CAMB or CLASS\n",
    "tabla = np.loadtxt(\"linear-pk-z1.dat\")\n",
    "ktabla = tabla[:,0]\n",
    "ptabla = tabla[:,1]\n",
    "tck=interpolate.splrep(ktabla,ptabla,s=0)\n",
    "\n",
    "# Adjusting the limits between numerical and analytical\n",
    "qmin = ktabla[0]\n",
    "qmax = ktabla[-1]\n",
    "power_ini = ptabla[0]\n",
    "power_end = ptabla[-1]\n",
    "power_rate_ini = ptabla[0]/Phs(ktabla[0])\n",
    "power_rate_end = ptabla[-1]/Phs(ktabla[-1])\n",
    "\n",
    "\n",
    "#Definition of linear power spectrum \n",
    "def linearpower(q):\n",
    "    if q<0:\n",
    "        power = 0.\n",
    "    elif q < 10**(-5) or q > 10**(4):\n",
    "        power = 0\n",
    "    elif q < qmin:\n",
    "        power = power_rate_ini*Phs(q)\n",
    "    elif q> qmax:\n",
    "        power = power_rate_end*Phs(q)\n",
    "    else:\n",
    "        power = interpolate.splev(q,tck,der=0)\n",
    "    return power\n",
    "\n",
    "\n"
   ]
  },
  {
   "cell_type": "code",
   "execution_count": 4,
   "metadata": {},
   "outputs": [],
   "source": [
    "#Calculation of the P_R^(2,2) term\n",
    "\n",
    "def xargument_rel(x,q,k):\n",
    "    r = q/k\n",
    "    den = 1. + r**2 - 2.*r*x\n",
    "    factorx = (6*fnl - 10 + 25*r*(x-r))**2/den**2\n",
    "    xargument = linearpower(k*np.sqrt(den))*factorx\n",
    "    return xargument\n",
    "\n",
    "def p22_argument_rel(q,k):\n",
    "    r = q/k\n",
    "    x_bis_min = -1.\n",
    "    x_bis_max = min(1.,1./(2.*r))\n",
    "    xintegral = quad(xargument_rel,x_bis_min,x_bis_max,args=(q,k))[0]\n",
    "    return xintegral\n",
    "    \n",
    "def p22_rel(k):\n",
    "    aux0 = p22_argument_rel(ktabla,k)\n",
    "    p22_arg = aux0*ptabla/ktabla**2\n",
    "    p22_integral = simps(p22_arg,ktabla)\n",
    "    p22 = Hub**4/(16.*np.pi**2)*p22_integral    \n",
    "    return p22\n",
    "\n",
    "\n",
    "#Calculation of the P_R^(1,3) term\n",
    "\n",
    "def p13_relativistic_argument(q, k):   \n",
    "    r = q/k\n",
    "    factor = 1./(k*q)**2 * (-gnl + 5./9*fnl + 25./54) - 1./6. * (1 + 2*r**2) / q**4 * (-gnl + 10./3*fnl - 50./27)\n",
    "    return factor\n",
    "\n",
    "\n",
    "def p13_relativistic(k):\n",
    "    aux = p13_relativistic_argument(ktabla, k)\n",
    "    p13_arg = aux * ptabla * ktabla**2\n",
    "    second_integral = simps(p13_arg,ktabla)\n",
    "    p13r = 81/(2.*np.pi)**2*linearpower(k) * second_integral*Hub**4\n",
    "    return p13r\n",
    "\n"
   ]
  },
  {
   "cell_type": "code",
   "execution_count": 5,
   "metadata": {},
   "outputs": [],
   "source": [
    "p22_argument_rel = np.vectorize(p22_argument_rel)\n",
    "\n",
    "p22r_tabla =list(map(p22_rel,ktabla))\n",
    "\n",
    "\n",
    "#Saving P_R^(2,2) in a .dat file\n",
    "np.savetxt(\"results/p22r-fnl-\"+str(fnl1)+\".dat\",np.transpose([ktabla,p22r_tabla]))\n"
   ]
  },
  {
   "cell_type": "code",
   "execution_count": 6,
   "metadata": {},
   "outputs": [
    {
     "data": {
      "text/plain": [
       "<matplotlib.legend.Legend at 0x10a56f310>"
      ]
     },
     "execution_count": 6,
     "metadata": {},
     "output_type": "execute_result"
    },
    {
     "data": {
      "image/png": "[encoded data removed]",
      "text/plain": [
       "<Figure size 432x288 with 1 Axes>"
      ]
     },
     "metadata": {
      "needs_background": "light"
     },
     "output_type": "display_data"
    }
   ],
   "source": [
    "#Plot of P_R^(2,2) term\n",
    "k22r,pk22r=np.loadtxt('results/p22r-fnl-1.dat',unpack=True)\n",
    "\n",
    "fig=figure() \n",
    "xlabel('$k[h\\:\\\\rm{Mpc}^{-1}]$',fontsize=13)\n",
    "ylabel('$\\\\left|{P(k)}\\\\right|[h^{-3}\\\\rm{Mpc}^3]$',fontsize=14)\n",
    " \n",
    "\n",
    "loglog(k22r,abs(pk22r), color='blue', label='$P_R^{(2,2)}\\quad f_{\\\\rm NL}=-1$',linestyle='solid')\n",
    "\n",
    "\n",
    "plt.legend(bbox_to_anchor=(1.05, 1), loc=2, borderaxespad=0.)"
   ]
  },
  {
   "cell_type": "code",
   "execution_count": 7,
   "metadata": {},
   "outputs": [],
   "source": [
    "p13_relativistic_argument = np.vectorize(p13_relativistic_argument)\n",
    "\n",
    "p13r_tabla = list(map(p13_relativistic,ktabla))\n",
    "\n",
    "#Saving P_R^(1,3) in a .dat file\n",
    "\n",
    "\n",
    "np.savetxt(\"results/p13r-fnl-\"+str(fnl1)+\"gnl-\"+str(gnl1)+\".dat\",np.transpose([ktabla,p13r_tabla]))\n"
   ]
  },
  {
   "cell_type": "code",
   "execution_count": 8,
   "metadata": {},
   "outputs": [
    {
     "data": {
      "text/plain": [
       "<matplotlib.legend.Legend at 0x10a979f50>"
      ]
     },
     "execution_count": 8,
     "metadata": {},
     "output_type": "execute_result"
    },
    {
     "data": {
      "image/png": "[encoded data removed]",
      "text/plain": [
       "<Figure size 432x288 with 1 Axes>"
      ]
     },
     "metadata": {
      "needs_background": "light"
     },
     "output_type": "display_data"
    }
   ],
   "source": [
    "#Plot of P_R^(1,3) term\n",
    "\n",
    "\n",
    "k13r,pk13r=np.loadtxt('results/p13r-fnl-1gnl-12.dat',unpack=True)\n",
    "\n",
    "fig=figure() \n",
    "\n",
    "xlabel('$k[h\\:\\\\rm{Mpc}^{-1}]$',fontsize=13)\n",
    "ylabel('$\\\\left|{P(k)}\\\\right|[h^{-3}\\\\rm{Mpc}^3]$',fontsize=14)\n",
    "\n",
    "loglog(k13r,abs(pk13r), color='red', label='$P_R^{(1,3)}\\quad f_{\\\\rm NL}=-1,\\enspace g_{\\\\rm NL}=-12.3\\\\times10^4$',linestyle='solid')\n",
    "\n",
    "\n",
    "plt.legend(bbox_to_anchor=(1.05, 1), loc=2, borderaxespad=0.)"
   ]
  },
  {
   "cell_type": "code",
   "execution_count": 9,
   "metadata": {},
   "outputs": [],
   "source": [
    "#Calculation of P_R1 term\n",
    "\n",
    "\n",
    "def xargument_rr1(x,q,k):\n",
    "    r = q/k\n",
    "    factorx =(3.*fnl*(1.+r**2+2.*r*x)+(5./6.)*(3.*r*x-6.+6.*r**2))/(q**2)\n",
    "    xargument =factorx\n",
    "    return xargument\n",
    "\n",
    "def prr1_argument_rel(q,k):\n",
    "    r = q/k\n",
    "    x_bis_min = -1.\n",
    "    x_bis_max = min(1.,1./(2.*r))\n",
    "    xintegral = quad(xargument_rr1,x_bis_min,x_bis_max,args=(q,k))[0]\n",
    "    return xintegral\n",
    "    \n",
    "def prr1_rel(k):\n",
    "    aux0 = prr1_argument_rel(ktabla,k)\n",
    "    prr1_arg = aux0*ptabla*ktabla**2\n",
    "    prr1_integral = simps(prr1_arg,ktabla)\n",
    "    #The factor of 2 comes from using those x's limits\n",
    "    prr1 = 2.*(Hub**2/(4.*np.pi**2))*prr1_integral*linearpower(k)    \n",
    "    return prr1\n",
    "\n",
    "\n",
    "\n"
   ]
  },
  {
   "cell_type": "code",
   "execution_count": 10,
   "metadata": {},
   "outputs": [],
   "source": [
    "prr1_argument_rel = np.vectorize(prr1_argument_rel)\n",
    "\n",
    "prr1r_tabla =list(map(prr1_rel,ktabla))\n",
    "\n",
    "#Saving P_R1 in a .dat file\n",
    "np.savetxt(\"results/pr1-fnl-\"+str(fnl1)+\".dat\",np.transpose([ktabla,prr1r_tabla]))\n"
   ]
  },
  {
   "cell_type": "code",
   "execution_count": 11,
   "metadata": {},
   "outputs": [
    {
     "data": {
      "text/plain": [
       "<matplotlib.legend.Legend at 0x10ab24610>"
      ]
     },
     "execution_count": 11,
     "metadata": {},
     "output_type": "execute_result"
    },
    {
     "data": {
      "image/png": "[encoded data removed]",
      "text/plain": [
       "<Figure size 432x288 with 1 Axes>"
      ]
     },
     "metadata": {
      "needs_background": "light"
     },
     "output_type": "display_data"
    }
   ],
   "source": [
    "#Plot of P_R1 term\n",
    "\n",
    "krr1, pkrr1=np.loadtxt('results/pr1-fnl-1.dat', unpack = True)\n",
    "\n",
    "fig=figure() \n",
    "xlabel('$k[h\\:\\\\rm{Mpc}^{-1}]$',fontsize=13)\n",
    "ylabel('$\\\\left|{P(k)}\\\\right|[h^{-3}\\\\rm{Mpc}^3]$',fontsize=14)\n",
    " \n",
    "\n",
    "loglog(krr1,abs(pkrr1), color='green', label='$P_{R1}\\quad f_{\\\\rm NL}=-1$',linestyle='solid')\n",
    "\n",
    "\n",
    "plt.legend(bbox_to_anchor=(1.05, 1), loc=2, borderaxespad=0.)"
   ]
  },
  {
   "cell_type": "code",
   "execution_count": 12,
   "metadata": {},
   "outputs": [],
   "source": [
    "def xargument_rr2(x,q,k):\n",
    "    r = q/k\n",
    "    den = 1. + r**2 - 2.*r*x\n",
    "    factorx =(6.*fnl-10.-25.*r**2+25.*r*x)/(4.*q**2*(den))\n",
    "    xargument = linearpower(k*np.sqrt(den))*factorx\n",
    "    return xargument\n",
    "\n",
    "def prr2_argument_rel(q,k):\n",
    "    r = q/k\n",
    "    x_bis_min = -1.\n",
    "    x_bis_max = min(1.,1./(2.*r))\n",
    "    xintegral = quad(xargument_rr2,x_bis_min,x_bis_max,args=(q,k))[0]\n",
    "    return xintegral\n",
    "    \n",
    "def prr2_rel(k):\n",
    "    aux0 = prr2_argument_rel(ktabla,k)\n",
    "    prr2_arg = aux0*ptabla*ktabla**2\n",
    "    prr2_integral = simps(prr2_arg,ktabla)\n",
    "    #The factor of 2 comes from using those x's limits\n",
    "    prr2 = (2.*Hub**2/(4.*np.pi**2))*prr2_integral    \n",
    "    return prr2\n"
   ]
  },
  {
   "cell_type": "code",
   "execution_count": null,
   "metadata": {},
   "outputs": [],
   "source": [
    "prr2_argument_rel = np.vectorize(prr2_argument_rel)\n",
    "\n",
    "prr2r_tabla =list(map(prr2_rel,ktabla))\n",
    "\n",
    "#Saving P_R2 in a .dat file\n",
    "np.savetxt(\"results/pr2-fnl-\"+str(fnl1)+\".dat\",np.transpose([ktabla,prr2r_tabla]))\n"
   ]
  },
  {
   "cell_type": "code",
   "execution_count": null,
   "metadata": {},
   "outputs": [],
   "source": [
    "#Plot of P_R2 term\n",
    "\n",
    "krr2, pkrr2=np.loadtxt('results/pr2-fnl-1.dat', unpack = True)\n",
    "\n",
    "\n",
    "fig=figure() \n",
    "xlabel('$k[h\\:\\\\rm{Mpc}^{-1}]$',fontsize=13)\n",
    "ylabel('$\\\\left|{P(k)}\\\\right|[h^{-3}\\\\rm{Mpc}^3]$',fontsize=14)\n",
    " \n",
    "loglog(krr2,abs(pkrr2), color='magenta', label='$P_{R2}\\quad f_{\\\\rm NL}=-1$',linestyle='solid')\n",
    "\n",
    "\n",
    "plt.legend(bbox_to_anchor=(1.05, 1), loc=2, borderaxespad=0.)"
   ]
  },
  {
   "cell_type": "code",
   "execution_count": null,
   "metadata": {},
   "outputs": [],
   "source": []
  },
  {
   "cell_type": "code",
   "execution_count": null,
   "metadata": {},
   "outputs": [],
   "source": []
  }
 ],
 "metadata": {
  "kernelspec": {
   "display_name": "Python 2",
   "language": "python",
   "name": "python2"
  },
  "language_info": {
   "codemirror_mode": {
    "name": "ipython",
    "version": 2
   },
   "file_extension": ".py",
   "mimetype": "text/x-python",
   "name": "python",
   "nbconvert_exporter": "python",
   "pygments_lexer": "ipython2",
   "version": "2.7.18"
  }
 },
 "nbformat": 4,
 "nbformat_minor": 4
}
